{
 "cells": [
  {
   "cell_type": "markdown",
   "id": "32025d43",
   "metadata": {},
   "source": [
    "\n",
    "Take $e=[1 0 0 ... 0]^\\intercal \\in \\mathbb{R}^n$\n",
    "If $ S $ denotes the surface measure on the unit sphere corresponding to (normalized) area, then the Expected inner product of $e$ and random variable $X$ with support set being a unit sphere s given by \n",
    "$$\n",
    "\\mathbb{E}[e^\\intercal X]\n",
    "\\int |\\mathbf{e} \\cdot \\mathbf{y}|^2 \\, dS(\\mathbf{y}) \n",
    "= \\int |y_1|^2 \\, dS(\\mathbf{y}) \n",
    "= \\frac{1}{n} \\int \\sum_{j=1}^n |y_j|^2 \\, dS(\\mathbf{y}) \n",
    "= \\frac{1}{n}.\n",
    "$$\n",
    "\n",
    "---\n",
    "\n",
    "### **Explanation of Steps**:\n",
    "1. **First Equality**:  \n",
    "   $$\n",
    "   \\int |\\mathbf{e} \\cdot \\mathbf{y}|^2 \\, dS(\\mathbf{y}) = \\int |y_1|^2 \\, dS(\\mathbf{y})\n",
    "   $$  \n",
    "   - By rotational symmetry, we can align \n",
    "   $ \\mathbf{e} $ with the first coordinate axis \n",
    "   $ \\mathbf{e}_1 $, so \n",
    "   $ \\mathbf{e} \\cdot \\mathbf{y} = y_1 $.\n",
    "\n",
    "2. **Second Equality**:  \n",
    "   $$\n",
    "   \\int |y_1|^2 \\, dS(\\mathbf{y}) = \\frac{1}{n} \\int \\sum_{j=1}^n |y_j|^2 \\, dS(\\mathbf{y})\n",
    "   $$  \n",
    "   - Due to symmetry, all \n",
    "   $ y_j^2 $ terms contribute equally. Since \n",
    "   $ \\sum_{j=1}^n y_j^2 = 1 $ on the unit sphere, the integral averages to \n",
    "   $ \\frac{1}{n} $.\n",
    "\n",
    "3. **Final Result**:  \n",
    "   $$\n",
    "   \\frac{1}{n} \\int \\sum_{j=1}^n |y_j|^2 \\, dS(\\mathbf{y}) = \\frac{1}{n}\n",
    "   $$  \n",
    "   - The integral of the constant function \n",
    "   $ 1 $ over the unit sphere is normalized to \n",
    "   $ 1 $.\n",
    "\n",
    "---\n",
    "\n",
    "### **Key Insight**:\n",
    "This result reflects the **uniform distribution of squared projections** on the unit sphere in \n",
    "$ \\mathbb{R}^n $, where each coordinate contributes equally to the total variance. The factor \n",
    "$ \\frac{1}{n} $ arises from the spherical symmetry in high-dimensional spaces."
   ]
  },
  {
   "cell_type": "code",
   "execution_count": null,
   "id": "e050eadf",
   "metadata": {},
   "outputs": [],
   "source": []
  }
 ],
 "metadata": {
  "language_info": {
   "name": "python"
  }
 },
 "nbformat": 4,
 "nbformat_minor": 5
}
