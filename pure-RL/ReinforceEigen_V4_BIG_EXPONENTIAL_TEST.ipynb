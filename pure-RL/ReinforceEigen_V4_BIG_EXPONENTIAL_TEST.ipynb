{
  "cells": [
    {
      "cell_type": "markdown",
      "metadata": {},
      "source": [
        "# Demonstration of Pure RL for Computing Eigenvectors\n",
        "\n",
        "This notebook demonstrates the feasibility of using pure Reinforcement Learning (RL) for computing eigenvectors. \n",
        "\n",
        "However, the resulting cosine distance ended up being 90 degrees, indicating a completely random result."
      ]
    },
    {
      "cell_type": "markdown",
      "metadata": {},
      "source": [
        "**Random pair of vectors in higher dimensional euclidian spaces are likely to be perpendicular** \n",
        "## Proof"
      ]
    },
    {
      "cell_type": "markdown",
      "metadata": {},
      "source": [
        "\n",
        "Take $e=[1 \\hspace{0.2cm} 0 \\hspace{0.2cm} 0 \\hspace{0.2cm} .\\hspace{0.2cm}.\\hspace{0.2cm}. \\hspace{0.2cm} 0]^\\intercal \\in \\mathbb{R}^n$.\n",
        "If $ S $ denotes the surface measure on the unit sphere corresponding to (normalized) area, then the Expected inner product of $e$ and random variable $Y$ with support set being a unit sphere $S$ given by \n",
        "$$\n",
        "\\mathbb{E}[e^\\intercal Y]\n",
        "= \\int |\\mathbf{e} \\cdot \\mathbf{y}|^2 \\, dS(\\mathbf{y}) \n",
        "= \\int |y_1|^2 \\, dS(\\mathbf{y}) \n",
        "= \\frac{1}{n} \\int \\sum_{j=1}^n |y_j|^2 \\, dS(\\mathbf{y}) \n",
        "= \\frac{1}{n}.\n",
        "$$\n",
        "\n",
        "\n",
        "So as the dimensionality $n$ increases, the expected inner product goes to $0$ ie. any random pair of vectors are likely to be orthogonal"
      ]
    },
    {
      "cell_type": "code",
      "execution_count": 2,
      "metadata": {
        "colab": {
          "base_uri": "https://localhost:8080/"
        },
        "id": "xfrVK4yDPb7-",
        "outputId": "34442f45-84ca-4e2c-ce14-120ce2447239"
      },
      "outputs": [
        {
          "name": "stdout",
          "output_type": "stream",
          "text": [
            "Collecting shimmy>=2.0\n",
            "  Downloading Shimmy-2.0.0-py3-none-any.whl.metadata (3.5 kB)\n",
            "Requirement already satisfied: numpy>=1.18.0 in /usr/local/lib/python3.11/dist-packages (from shimmy>=2.0) (2.0.2)\n",
            "Requirement already satisfied: gymnasium>=1.0.0a1 in /usr/local/lib/python3.11/dist-packages (from shimmy>=2.0) (1.1.1)\n",
            "Requirement already satisfied: cloudpickle>=1.2.0 in /usr/local/lib/python3.11/dist-packages (from gymnasium>=1.0.0a1->shimmy>=2.0) (3.1.1)\n",
            "Requirement already satisfied: typing-extensions>=4.3.0 in /usr/local/lib/python3.11/dist-packages (from gymnasium>=1.0.0a1->shimmy>=2.0) (4.13.2)\n",
            "Requirement already satisfied: farama-notifications>=0.0.1 in /usr/local/lib/python3.11/dist-packages (from gymnasium>=1.0.0a1->shimmy>=2.0) (0.0.4)\n",
            "Downloading Shimmy-2.0.0-py3-none-any.whl (30 kB)\n",
            "Installing collected packages: shimmy\n",
            "Successfully installed shimmy-2.0.0\n",
            "Collecting stable_baselines3\n",
            "  Downloading stable_baselines3-2.6.0-py3-none-any.whl.metadata (4.8 kB)\n",
            "Requirement already satisfied: gymnasium<1.2.0,>=0.29.1 in /usr/local/lib/python3.11/dist-packages (from stable_baselines3) (1.1.1)\n",
            "Requirement already satisfied: numpy<3.0,>=1.20 in /usr/local/lib/python3.11/dist-packages (from stable_baselines3) (2.0.2)\n",
            "Requirement already satisfied: torch<3.0,>=2.3 in /usr/local/lib/python3.11/dist-packages (from stable_baselines3) (2.6.0+cu124)\n",
            "Requirement already satisfied: cloudpickle in /usr/local/lib/python3.11/dist-packages (from stable_baselines3) (3.1.1)\n",
            "Requirement already satisfied: pandas in /usr/local/lib/python3.11/dist-packages (from stable_baselines3) (2.2.2)\n",
            "Requirement already satisfied: matplotlib in /usr/local/lib/python3.11/dist-packages (from stable_baselines3) (3.10.0)\n",
            "Requirement already satisfied: typing-extensions>=4.3.0 in /usr/local/lib/python3.11/dist-packages (from gymnasium<1.2.0,>=0.29.1->stable_baselines3) (4.13.2)\n",
            "Requirement already satisfied: farama-notifications>=0.0.1 in /usr/local/lib/python3.11/dist-packages (from gymnasium<1.2.0,>=0.29.1->stable_baselines3) (0.0.4)\n",
            "Requirement already satisfied: filelock in /usr/local/lib/python3.11/dist-packages (from torch<3.0,>=2.3->stable_baselines3) (3.18.0)\n",
            "Requirement already satisfied: networkx in /usr/local/lib/python3.11/dist-packages (from torch<3.0,>=2.3->stable_baselines3) (3.4.2)\n",
            "Requirement already satisfied: jinja2 in /usr/local/lib/python3.11/dist-packages (from torch<3.0,>=2.3->stable_baselines3) (3.1.6)\n",
            "Requirement already satisfied: fsspec in /usr/local/lib/python3.11/dist-packages (from torch<3.0,>=2.3->stable_baselines3) (2025.3.2)\n",
            "Collecting nvidia-cuda-nvrtc-cu12==12.4.127 (from torch<3.0,>=2.3->stable_baselines3)\n",
            "  Downloading nvidia_cuda_nvrtc_cu12-12.4.127-py3-none-manylinux2014_x86_64.whl.metadata (1.5 kB)\n",
            "Collecting nvidia-cuda-runtime-cu12==12.4.127 (from torch<3.0,>=2.3->stable_baselines3)\n",
            "  Downloading nvidia_cuda_runtime_cu12-12.4.127-py3-none-manylinux2014_x86_64.whl.metadata (1.5 kB)\n",
            "Collecting nvidia-cuda-cupti-cu12==12.4.127 (from torch<3.0,>=2.3->stable_baselines3)\n",
            "  Downloading nvidia_cuda_cupti_cu12-12.4.127-py3-none-manylinux2014_x86_64.whl.metadata (1.6 kB)\n",
            "Collecting nvidia-cudnn-cu12==9.1.0.70 (from torch<3.0,>=2.3->stable_baselines3)\n",
            "  Downloading nvidia_cudnn_cu12-9.1.0.70-py3-none-manylinux2014_x86_64.whl.metadata (1.6 kB)\n",
            "Collecting nvidia-cublas-cu12==12.4.5.8 (from torch<3.0,>=2.3->stable_baselines3)\n",
            "  Downloading nvidia_cublas_cu12-12.4.5.8-py3-none-manylinux2014_x86_64.whl.metadata (1.5 kB)\n",
            "Collecting nvidia-cufft-cu12==11.2.1.3 (from torch<3.0,>=2.3->stable_baselines3)\n",
            "  Downloading nvidia_cufft_cu12-11.2.1.3-py3-none-manylinux2014_x86_64.whl.metadata (1.5 kB)\n",
            "Collecting nvidia-curand-cu12==10.3.5.147 (from torch<3.0,>=2.3->stable_baselines3)\n",
            "  Downloading nvidia_curand_cu12-10.3.5.147-py3-none-manylinux2014_x86_64.whl.metadata (1.5 kB)\n",
            "Collecting nvidia-cusolver-cu12==11.6.1.9 (from torch<3.0,>=2.3->stable_baselines3)\n",
            "  Downloading nvidia_cusolver_cu12-11.6.1.9-py3-none-manylinux2014_x86_64.whl.metadata (1.6 kB)\n",
            "Collecting nvidia-cusparse-cu12==12.3.1.170 (from torch<3.0,>=2.3->stable_baselines3)\n",
            "  Downloading nvidia_cusparse_cu12-12.3.1.170-py3-none-manylinux2014_x86_64.whl.metadata (1.6 kB)\n",
            "Requirement already satisfied: nvidia-cusparselt-cu12==0.6.2 in /usr/local/lib/python3.11/dist-packages (from torch<3.0,>=2.3->stable_baselines3) (0.6.2)\n",
            "Requirement already satisfied: nvidia-nccl-cu12==2.21.5 in /usr/local/lib/python3.11/dist-packages (from torch<3.0,>=2.3->stable_baselines3) (2.21.5)\n",
            "Requirement already satisfied: nvidia-nvtx-cu12==12.4.127 in /usr/local/lib/python3.11/dist-packages (from torch<3.0,>=2.3->stable_baselines3) (12.4.127)\n",
            "Collecting nvidia-nvjitlink-cu12==12.4.127 (from torch<3.0,>=2.3->stable_baselines3)\n",
            "  Downloading nvidia_nvjitlink_cu12-12.4.127-py3-none-manylinux2014_x86_64.whl.metadata (1.5 kB)\n",
            "Requirement already satisfied: triton==3.2.0 in /usr/local/lib/python3.11/dist-packages (from torch<3.0,>=2.3->stable_baselines3) (3.2.0)\n",
            "Requirement already satisfied: sympy==1.13.1 in /usr/local/lib/python3.11/dist-packages (from torch<3.0,>=2.3->stable_baselines3) (1.13.1)\n",
            "Requirement already satisfied: mpmath<1.4,>=1.1.0 in /usr/local/lib/python3.11/dist-packages (from sympy==1.13.1->torch<3.0,>=2.3->stable_baselines3) (1.3.0)\n",
            "Requirement already satisfied: contourpy>=1.0.1 in /usr/local/lib/python3.11/dist-packages (from matplotlib->stable_baselines3) (1.3.2)\n",
            "Requirement already satisfied: cycler>=0.10 in /usr/local/lib/python3.11/dist-packages (from matplotlib->stable_baselines3) (0.12.1)\n",
            "Requirement already satisfied: fonttools>=4.22.0 in /usr/local/lib/python3.11/dist-packages (from matplotlib->stable_baselines3) (4.57.0)\n",
            "Requirement already satisfied: kiwisolver>=1.3.1 in /usr/local/lib/python3.11/dist-packages (from matplotlib->stable_baselines3) (1.4.8)\n",
            "Requirement already satisfied: packaging>=20.0 in /usr/local/lib/python3.11/dist-packages (from matplotlib->stable_baselines3) (24.2)\n",
            "Requirement already satisfied: pillow>=8 in /usr/local/lib/python3.11/dist-packages (from matplotlib->stable_baselines3) (11.2.1)\n",
            "Requirement already satisfied: pyparsing>=2.3.1 in /usr/local/lib/python3.11/dist-packages (from matplotlib->stable_baselines3) (3.2.3)\n",
            "Requirement already satisfied: python-dateutil>=2.7 in /usr/local/lib/python3.11/dist-packages (from matplotlib->stable_baselines3) (2.9.0.post0)\n",
            "Requirement already satisfied: pytz>=2020.1 in /usr/local/lib/python3.11/dist-packages (from pandas->stable_baselines3) (2025.2)\n",
            "Requirement already satisfied: tzdata>=2022.7 in /usr/local/lib/python3.11/dist-packages (from pandas->stable_baselines3) (2025.2)\n",
            "Requirement already satisfied: six>=1.5 in /usr/local/lib/python3.11/dist-packages (from python-dateutil>=2.7->matplotlib->stable_baselines3) (1.17.0)\n",
            "Requirement already satisfied: MarkupSafe>=2.0 in /usr/local/lib/python3.11/dist-packages (from jinja2->torch<3.0,>=2.3->stable_baselines3) (3.0.2)\n",
            "Downloading stable_baselines3-2.6.0-py3-none-any.whl (184 kB)\n",
            "\u001b[2K   \u001b[90m━━━━━━━━━━━━━━━━━━━━━━━━━━━━━━━━━━━━━━━━\u001b[0m \u001b[32m184.5/184.5 kB\u001b[0m \u001b[31m5.1 MB/s\u001b[0m eta \u001b[36m0:00:00\u001b[0m\n",
            "\u001b[?25hDownloading nvidia_cublas_cu12-12.4.5.8-py3-none-manylinux2014_x86_64.whl (363.4 MB)\n",
            "\u001b[2K   \u001b[90m━━━━━━━━━━━━━━━━━━━━━━━━━━━━━━━━━━━━━━━━\u001b[0m \u001b[32m363.4/363.4 MB\u001b[0m \u001b[31m5.0 MB/s\u001b[0m eta \u001b[36m0:00:00\u001b[0m\n",
            "\u001b[?25hDownloading nvidia_cuda_cupti_cu12-12.4.127-py3-none-manylinux2014_x86_64.whl (13.8 MB)\n",
            "\u001b[2K   \u001b[90m━━━━━━━━━━━━━━━━━━━━━━━━━━━━━━━━━━━━━━━━\u001b[0m \u001b[32m13.8/13.8 MB\u001b[0m \u001b[31m84.9 MB/s\u001b[0m eta \u001b[36m0:00:00\u001b[0m\n",
            "\u001b[?25hDownloading nvidia_cuda_nvrtc_cu12-12.4.127-py3-none-manylinux2014_x86_64.whl (24.6 MB)\n",
            "\u001b[2K   \u001b[90m━━━━━━━━━━━━━━━━━━━━━━━━━━━━━━━━━━━━━━━━\u001b[0m \u001b[32m24.6/24.6 MB\u001b[0m \u001b[31m73.7 MB/s\u001b[0m eta \u001b[36m0:00:00\u001b[0m\n",
            "\u001b[?25hDownloading nvidia_cuda_runtime_cu12-12.4.127-py3-none-manylinux2014_x86_64.whl (883 kB)\n",
            "\u001b[2K   \u001b[90m━━━━━━━━━━━━━━━━━━━━━━━━━━━━━━━━━━━━━━━━\u001b[0m \u001b[32m883.7/883.7 kB\u001b[0m \u001b[31m54.9 MB/s\u001b[0m eta \u001b[36m0:00:00\u001b[0m\n",
            "\u001b[?25hDownloading nvidia_cudnn_cu12-9.1.0.70-py3-none-manylinux2014_x86_64.whl (664.8 MB)\n",
            "\u001b[2K   \u001b[90m━━━━━━━━━━━━━━━━━━━━━━━━━━━━━━━━━━━━━━━━\u001b[0m \u001b[32m664.8/664.8 MB\u001b[0m \u001b[31m2.3 MB/s\u001b[0m eta \u001b[36m0:00:00\u001b[0m\n",
            "\u001b[?25hDownloading nvidia_cufft_cu12-11.2.1.3-py3-none-manylinux2014_x86_64.whl (211.5 MB)\n",
            "\u001b[2K   \u001b[90m━━━━━━━━━━━━━━━━━━━━━━━━━━━━━━━━━━━━━━━━\u001b[0m \u001b[32m211.5/211.5 MB\u001b[0m \u001b[31m6.9 MB/s\u001b[0m eta \u001b[36m0:00:00\u001b[0m\n",
            "\u001b[?25hDownloading nvidia_curand_cu12-10.3.5.147-py3-none-manylinux2014_x86_64.whl (56.3 MB)\n",
            "\u001b[2K   \u001b[90m━━━━━━━━━━━━━━━━━━━━━━━━━━━━━━━━━━━━━━━━\u001b[0m \u001b[32m56.3/56.3 MB\u001b[0m \u001b[31m11.6 MB/s\u001b[0m eta \u001b[36m0:00:00\u001b[0m\n",
            "\u001b[?25hDownloading nvidia_cusolver_cu12-11.6.1.9-py3-none-manylinux2014_x86_64.whl (127.9 MB)\n",
            "\u001b[2K   \u001b[90m━━━━━━━━━━━━━━━━━━━━━━━━━━━━━━━━━━━━━━━━\u001b[0m \u001b[32m127.9/127.9 MB\u001b[0m \u001b[31m7.2 MB/s\u001b[0m eta \u001b[36m0:00:00\u001b[0m\n",
            "\u001b[?25hDownloading nvidia_cusparse_cu12-12.3.1.170-py3-none-manylinux2014_x86_64.whl (207.5 MB)\n",
            "\u001b[2K   \u001b[90m━━━━━━━━━━━━━━━━━━━━━━━━━━━━━━━━━━━━━━━━\u001b[0m \u001b[32m207.5/207.5 MB\u001b[0m \u001b[31m5.2 MB/s\u001b[0m eta \u001b[36m0:00:00\u001b[0m\n",
            "\u001b[?25hDownloading nvidia_nvjitlink_cu12-12.4.127-py3-none-manylinux2014_x86_64.whl (21.1 MB)\n",
            "\u001b[2K   \u001b[90m━━━━━━━━━━━━━━━━━━━━━━━━━━━━━━━━━━━━━━━━\u001b[0m \u001b[32m21.1/21.1 MB\u001b[0m \u001b[31m53.5 MB/s\u001b[0m eta \u001b[36m0:00:00\u001b[0m\n",
            "\u001b[?25hInstalling collected packages: nvidia-nvjitlink-cu12, nvidia-curand-cu12, nvidia-cufft-cu12, nvidia-cuda-runtime-cu12, nvidia-cuda-nvrtc-cu12, nvidia-cuda-cupti-cu12, nvidia-cublas-cu12, nvidia-cusparse-cu12, nvidia-cudnn-cu12, nvidia-cusolver-cu12, stable_baselines3\n",
            "  Attempting uninstall: nvidia-nvjitlink-cu12\n",
            "    Found existing installation: nvidia-nvjitlink-cu12 12.5.82\n",
            "    Uninstalling nvidia-nvjitlink-cu12-12.5.82:\n",
            "      Successfully uninstalled nvidia-nvjitlink-cu12-12.5.82\n",
            "  Attempting uninstall: nvidia-curand-cu12\n",
            "    Found existing installation: nvidia-curand-cu12 10.3.6.82\n",
            "    Uninstalling nvidia-curand-cu12-10.3.6.82:\n",
            "      Successfully uninstalled nvidia-curand-cu12-10.3.6.82\n",
            "  Attempting uninstall: nvidia-cufft-cu12\n",
            "    Found existing installation: nvidia-cufft-cu12 11.2.3.61\n",
            "    Uninstalling nvidia-cufft-cu12-11.2.3.61:\n",
            "      Successfully uninstalled nvidia-cufft-cu12-11.2.3.61\n",
            "  Attempting uninstall: nvidia-cuda-runtime-cu12\n",
            "    Found existing installation: nvidia-cuda-runtime-cu12 12.5.82\n",
            "    Uninstalling nvidia-cuda-runtime-cu12-12.5.82:\n",
            "      Successfully uninstalled nvidia-cuda-runtime-cu12-12.5.82\n",
            "  Attempting uninstall: nvidia-cuda-nvrtc-cu12\n",
            "    Found existing installation: nvidia-cuda-nvrtc-cu12 12.5.82\n",
            "    Uninstalling nvidia-cuda-nvrtc-cu12-12.5.82:\n",
            "      Successfully uninstalled nvidia-cuda-nvrtc-cu12-12.5.82\n",
            "  Attempting uninstall: nvidia-cuda-cupti-cu12\n",
            "    Found existing installation: nvidia-cuda-cupti-cu12 12.5.82\n",
            "    Uninstalling nvidia-cuda-cupti-cu12-12.5.82:\n",
            "      Successfully uninstalled nvidia-cuda-cupti-cu12-12.5.82\n",
            "  Attempting uninstall: nvidia-cublas-cu12\n",
            "    Found existing installation: nvidia-cublas-cu12 12.5.3.2\n",
            "    Uninstalling nvidia-cublas-cu12-12.5.3.2:\n",
            "      Successfully uninstalled nvidia-cublas-cu12-12.5.3.2\n",
            "  Attempting uninstall: nvidia-cusparse-cu12\n",
            "    Found existing installation: nvidia-cusparse-cu12 12.5.1.3\n",
            "    Uninstalling nvidia-cusparse-cu12-12.5.1.3:\n",
            "      Successfully uninstalled nvidia-cusparse-cu12-12.5.1.3\n",
            "  Attempting uninstall: nvidia-cudnn-cu12\n",
            "    Found existing installation: nvidia-cudnn-cu12 9.3.0.75\n",
            "    Uninstalling nvidia-cudnn-cu12-9.3.0.75:\n",
            "      Successfully uninstalled nvidia-cudnn-cu12-9.3.0.75\n",
            "  Attempting uninstall: nvidia-cusolver-cu12\n",
            "    Found existing installation: nvidia-cusolver-cu12 11.6.3.83\n",
            "    Uninstalling nvidia-cusolver-cu12-11.6.3.83:\n",
            "      Successfully uninstalled nvidia-cusolver-cu12-11.6.3.83\n",
            "Successfully installed nvidia-cublas-cu12-12.4.5.8 nvidia-cuda-cupti-cu12-12.4.127 nvidia-cuda-nvrtc-cu12-12.4.127 nvidia-cuda-runtime-cu12-12.4.127 nvidia-cudnn-cu12-9.1.0.70 nvidia-cufft-cu12-11.2.1.3 nvidia-curand-cu12-10.3.5.147 nvidia-cusolver-cu12-11.6.1.9 nvidia-cusparse-cu12-12.3.1.170 nvidia-nvjitlink-cu12-12.4.127 stable_baselines3-2.6.0\n"
          ]
        }
      ],
      "source": [
        "!pip install 'shimmy>=2.0'\n",
        "!pip install stable_baselines3"
      ]
    },
    {
      "cell_type": "code",
      "execution_count": 3,
      "metadata": {
        "id": "gCXU8qHbN4fP"
      },
      "outputs": [],
      "source": [
        "import numpy as np\n",
        "import gym\n",
        "from gym import spaces\n",
        "from stable_baselines3 import PPO\n",
        "from scipy.sparse import csr_matrix, issparse\n",
        "from scipy.sparse.linalg import eigsh\n",
        "from scipy.spatial.distance import cosine\n",
        "from stable_baselines3 import SAC\n"
      ]
    },
    {
      "cell_type": "code",
      "execution_count": 4,
      "metadata": {
        "id": "zEEOXhXtN9Ez"
      },
      "outputs": [],
      "source": [
        "import numpy as np\n",
        "import gym\n",
        "from gym import spaces\n",
        "from stable_baselines3 import PPO\n",
        "from scipy.sparse import csr_matrix, issparse\n",
        "from scipy.sparse.linalg import eigsh\n",
        "from scipy.sparse import random as sparse_random\n",
        "\n",
        "# Power method for warm-start initialization\n",
        "def power_method(A, num_iterations=5):\n",
        "    x = np.random.randn(A.shape[0])\n",
        "    x /= np.linalg.norm(x)\n",
        "    for _ in range(num_iterations):\n",
        "        x = A.dot(x) if issparse(A) else A @ x\n",
        "        x /= np.linalg.norm(x) + 1e-8\n",
        "    return x\n",
        "\n",
        "# Define RL Environment for Eigenvector Search\n",
        "class EigenvectorEnv(gym.Env):\n",
        "    def __init__(self, A, target_eigenvalue):\n",
        "        super(EigenvectorEnv, self).__init__()\n",
        "        self.A = A\n",
        "        self.target_eigenvalue = target_eigenvalue\n",
        "        self.dim = A.shape[0]\n",
        "        self.observation_space = spaces.Box(low=-np.inf, high=np.inf, shape=(self.dim,), dtype=np.float32)\n",
        "        self.action_space = spaces.Box(low=-1, high=1, shape=(self.dim,), dtype=np.float32)\n",
        "        self.state = None\n",
        "        # Compute Frobenius norm for normalization\n",
        "        self.A_norm = np.sqrt(np.sum(A.data**2)) if issparse(A) else np.linalg.norm(A, 'fro')\n",
        "\n",
        "    def reset(self):\n",
        "        # Warm-start with power method\n",
        "        self.state = power_method(self.A)\n",
        "        return self.state\n",
        "\n",
        "    def step(self, action):\n",
        "        action = np.array(action)\n",
        "        action /= np.linalg.norm(action) + 1e-8\n",
        "        self.state = action\n",
        "        # Compute residual norm\n",
        "        if issparse(self.A):\n",
        "            residual = self.A.dot(action) - self.target_eigenvalue * action\n",
        "        else:\n",
        "            residual = self.A @ action - self.target_eigenvalue * action\n",
        "        residual_norm = np.linalg.norm(residual)\n",
        "        # Normalize residual norm\n",
        "        normalized_residual = residual_norm / (self.A_norm + 1e-8)\n",
        "        # Compute Rayleigh quotient deviation\n",
        "        rayleigh = (action @ (self.A.dot(action) if issparse(self.A) else self.A @ action)) / (np.dot(action, action) + 1e-8)\n",
        "        rayleigh_deviation = np.abs(rayleigh - self.target_eigenvalue) / (np.abs(self.target_eigenvalue) + 1e-8)\n",
        "        # Combined reward with Rayleigh weight\n",
        "        reward = -normalized_residual - 0.75 * rayleigh_deviation\n",
        "        done = False\n",
        "        return self.state, reward, done, {}\n",
        "\n",
        "# Function to compute cosine distance\n",
        "def cosine_distance(v1, v2):\n",
        "    v1 = v1 / (np.linalg.norm(v1) + 1e-8)\n",
        "    v2 = v2 / (np.linalg.norm(v2) + 1e-8)\n",
        "    cos_sim = np.abs(np.dot(v1, v2))\n",
        "    cos_sim = min(cos_sim, 1.0)  # Handle numerical errors\n",
        "    return np.arccos(cos_sim) / np.pi  # Normalized to [0, 1/2]\n",
        "\n",
        "# Function to find dominant eigenvalue and compute eigenvector using RL\n",
        "def compute_dominant_eigenvector(A, timesteps=100000, eval_steps=750):\n",
        "    # Ensure matrix is symmetric\n",
        "    if issparse(A):\n",
        "        A = (A + A.T) / 2\n",
        "    else:\n",
        "        A = (A + A.T) / 2\n",
        "\n",
        "    # Compute dominant eigenvalue and eigenvector using scipy\n",
        "    eigvals, eigvecs = eigsh(A, k=1, which='LA') if issparse(A) else np.linalg.eigh(A)\n",
        "    dominant_eigenvalue = eigvals[-1] if not issparse(A) else eigvals[0]\n",
        "    true_eigenvector = eigvecs[:, -1] if not issparse(A) else eigvecs[:, 0]\n",
        "    print(\"Dominant eigenvalue (scipy):\", dominant_eigenvalue)\n",
        "\n",
        "    # Initialize environment and PPO model with deeper MLP\n",
        "    env = EigenvectorEnv(A, dominant_eigenvalue)\n",
        "    policy_kwargs = dict(net_arch=[512, 512, 256, 256, 128])\n",
        "    model = PPO(\n",
        "        'MlpPolicy',\n",
        "        env,\n",
        "        verbose=0,  # Reduce logging for multiple runs\n",
        "        learning_rate=0.00005,\n",
        "        batch_size=256,\n",
        "        clip_range=0.1,\n",
        "        policy_kwargs=policy_kwargs\n",
        "    )\n",
        "    model.learn(total_timesteps=timesteps)\n",
        "\n",
        "    # Evaluate to find best eigenvector\n",
        "    obs = env.reset()\n",
        "    best_reward = -np.inf\n",
        "    best_vec = None\n",
        "\n",
        "    for _ in range(eval_steps):\n",
        "        action, _ = model.predict(obs)\n",
        "        obs, reward, _, _ = env.step(action)\n",
        "        if reward > best_reward:\n",
        "            best_reward = reward\n",
        "            best_vec = obs\n",
        "\n",
        "    #print(\"Approximated eigenvector (RL):\", best_vec)\n",
        "    # Compute residual norm for verification\n",
        "    residual_norm = np.linalg.norm(A @ best_vec - dominant_eigenvalue * best_vec) if not issparse(A) else np.linalg.norm(A.dot(best_vec) - dominant_eigenvalue * best_vec)\n",
        "    print(\"Residual norm ||Ax - λx||:\", residual_norm)\n",
        "    # Compute cosine distance for accuracy\n",
        "    cos_dist = cosine_distance(best_vec, true_eigenvector)\n",
        "    print(\"Cosine distance to true eigenvector:\", cos_dist)\n",
        "\n",
        "    return dominant_eigenvalue, best_vec, cos_dist\n"
      ]
    },
    {
      "cell_type": "markdown",
      "metadata": {
        "id": "fFqq3-yXTubg"
      },
      "source": [
        "# Test on Large sparse matrix"
      ]
    },
    {
      "cell_type": "code",
      "execution_count": null,
      "metadata": {
        "colab": {
          "background_save": true,
          "base_uri": "https://localhost:8080/"
        },
        "id": "flVouBl1OBmu",
        "outputId": "8854a322-b025-48cc-d89c-7dce0124aa2d"
      },
      "outputs": [
        {
          "name": "stdout",
          "output_type": "stream",
          "text": [
            "\n",
            "Run 1/10 (size=1000)\n",
            "Dominant eigenvalue (scipy): 5.3497582686143055\n"
          ]
        },
        {
          "name": "stderr",
          "output_type": "stream",
          "text": [
            "/usr/local/lib/python3.11/dist-packages/stable_baselines3/common/vec_env/patch_gym.py:49: UserWarning: You provided an OpenAI Gym environment. We strongly recommend transitioning to Gymnasium environments. Stable-Baselines3 is automatically wrapping your environments in a compatibility layer, which could potentially cause issues.\n",
            "  warnings.warn(\n"
          ]
        },
        {
          "name": "stdout",
          "output_type": "stream",
          "text": [
            "Residual norm ||Ax - λx||: 5.299645422499358\n",
            "Cosine distance to true eigenvector: 0.490538798289205\n",
            "\n",
            "Run 2/10 (size=1100)\n",
            "Dominant eigenvalue (scipy): 5.8644707923857196\n"
          ]
        },
        {
          "name": "stderr",
          "output_type": "stream",
          "text": [
            "/usr/local/lib/python3.11/dist-packages/stable_baselines3/common/vec_env/patch_gym.py:49: UserWarning: You provided an OpenAI Gym environment. We strongly recommend transitioning to Gymnasium environments. Stable-Baselines3 is automatically wrapping your environments in a compatibility layer, which could potentially cause issues.\n",
            "  warnings.warn(\n"
          ]
        },
        {
          "name": "stdout",
          "output_type": "stream",
          "text": [
            "Residual norm ||Ax - λx||: 5.855986294364944\n",
            "Cosine distance to true eigenvector: 0.49484522769028366\n",
            "\n",
            "Run 3/10 (size=1200)\n",
            "Dominant eigenvalue (scipy): 6.362035776208715\n",
            "Residual norm ||Ax - λx||: 6.3432100397954025\n",
            "Cosine distance to true eigenvector: 0.48580628423920563\n",
            "\n",
            "Run 4/10 (size=1300)\n",
            "Dominant eigenvalue (scipy): 6.8439218149729975\n",
            "Residual norm ||Ax - λx||: 6.83578156325586\n",
            "Cosine distance to true eigenvector: 0.46894021054551466\n",
            "\n",
            "Run 5/10 (size=1400)\n",
            "Dominant eigenvalue (scipy): 7.308640773589529\n",
            "Residual norm ||Ax - λx||: 7.291900778167563\n",
            "Cosine distance to true eigenvector: 0.4940616616233107\n",
            "\n",
            "Run 6/10 (size=1500)\n",
            "Dominant eigenvalue (scipy): 7.799504478874313\n",
            "Residual norm ||Ax - λx||: 7.801881269191708\n",
            "Cosine distance to true eigenvector: 0.4883043474066261\n",
            "\n",
            "Run 7/10 (size=1600)\n",
            "Dominant eigenvalue (scipy): 8.305845707464508\n",
            "Residual norm ||Ax - λx||: 8.279084187672415\n",
            "Cosine distance to true eigenvector: 0.4986708729753089\n",
            "\n",
            "Run 8/10 (size=1700)\n",
            "Dominant eigenvalue (scipy): 8.861577390951341\n",
            "Residual norm ||Ax - λx||: 8.813937969586052\n",
            "Cosine distance to true eigenvector: 0.47982196065756155\n",
            "\n",
            "Run 9/10 (size=1800)\n",
            "Dominant eigenvalue (scipy): 9.374801251046831\n",
            "Residual norm ||Ax - λx||: 9.3627122779518\n",
            "Cosine distance to true eigenvector: 0.48544667087699617\n",
            "\n",
            "Run 10/10 (size=1900)\n",
            "Dominant eigenvalue (scipy): 9.806507358558534\n",
            "Residual norm ||Ax - λx||: 9.775642544040785\n",
            "Cosine distance to true eigenvector: 0.4996868926474414\n",
            "\n",
            "Cosine Distances for 10 Runs:\n",
            "Run 1: 0.490539\n",
            "Run 2: 0.494845\n",
            "Run 3: 0.485806\n",
            "Run 4: 0.468940\n",
            "Run 5: 0.494062\n",
            "Run 6: 0.488304\n",
            "Run 7: 0.498671\n",
            "Run 8: 0.479822\n",
            "Run 9: 0.485447\n",
            "Run 10: 0.499687\n",
            "Mean Cosine Distance: 0.488612\n"
          ]
        }
      ],
      "source": [
        "\n",
        "# Test loop: Run 10 times and store results\n",
        "A_sparse_list = []\n",
        "eigenvalue_list = []\n",
        "eigenvector_list = []\n",
        "cos_dist_list = []\n",
        "\n",
        "for i in range(10):\n",
        "    size = 1000 + i*100\n",
        "    print(f\"\\nRun {i+1}/10 (size={size})\")\n",
        "    # Reset seed for reproducibility\n",
        "    np.random.seed(42)\n",
        "\n",
        "    A_sparse = sparse_random(size, size, density=0.01, format='csr')\n",
        "\n",
        "    # Store input matrix\n",
        "    A_sparse_list.append(A_sparse)\n",
        "\n",
        "    # Run test\n",
        "    eigenvalue, eigenvector, cos_dist = compute_dominant_eigenvector(A_sparse)\n",
        "\n",
        "    # Store results\n",
        "    eigenvalue_list.append(eigenvalue)\n",
        "    eigenvector_list.append(eigenvector)\n",
        "    cos_dist_list.append(cos_dist)\n",
        "\n",
        "# Print cosine distances and compute mean\n",
        "print(\"\\nCosine Distances for 10 Runs:\")\n",
        "for i, cos_dist in enumerate(cos_dist_list):\n",
        "    print(f\"Run {i+1}: {cos_dist:.6f}\")\n",
        "\n",
        "mean_cos_dist = np.mean(cos_dist_list)\n",
        "print(f\"Mean Cosine Distance: {mean_cos_dist:.6f}\")"
      ]
    },
    {
      "cell_type": "markdown",
      "metadata": {
        "id": "QGDOb3lhTos6"
      },
      "source": [
        "# Test on dense matrix"
      ]
    },
    {
      "cell_type": "code",
      "execution_count": null,
      "metadata": {
        "colab": {
          "background_save": true
        },
        "id": "MS1URBAJN_32",
        "outputId": "6ec8275f-0c6f-4d51-c895-5768dc272d38"
      },
      "outputs": [
        {
          "name": "stdout",
          "output_type": "stream",
          "text": [
            "\n",
            "Testing with dense matrix:\n",
            "Dominant eigenvalue (scipy): 1.991113406258497\n",
            "Residual norm ||Ax - λx||: 0.5061796599950376\n",
            "Cosine distance to true eigenvector: 0.09034343783723195\n"
          ]
        }
      ],
      "source": [
        "# Test with dense symmetric matrix\n",
        "np.random.seed(42)\n",
        "size = 5\n",
        "A_dense = np.random.randn(size, size)\n",
        "A_dense = (A_dense + A_dense.T) / 2\n",
        "print(\"\\nTesting with dense matrix:\")\n",
        "eigenvalue, eigenvector, cos_dist_dense = compute_dominant_eigenvector(A_dense)\n",
        "\n"
      ]
    },
    {
      "cell_type": "code",
      "execution_count": 7,
      "metadata": {
        "colab": {
          "base_uri": "https://localhost:8080/",
          "height": 647
        },
        "id": "Y48a4zkk9dKo",
        "outputId": "8b77d3ec-fd47-417a-b2ae-f5f197c96835"
      },
      "outputs": [
        {
          "name": "stdout",
          "output_type": "stream",
          "text": [
            "\n",
            "Run 2/10 (size=10)\n",
            "Dominant eigenvalue (scipy): 0.0994212020444026\n"
          ]
        },
        {
          "name": "stderr",
          "output_type": "stream",
          "text": [
            "/usr/local/lib/python3.11/dist-packages/stable_baselines3/common/vec_env/patch_gym.py:49: UserWarning: You provided an OpenAI Gym environment. We strongly recommend transitioning to Gymnasium environments. Stable-Baselines3 is automatically wrapping your environments in a compatibility layer, which could potentially cause issues.\n",
            "  warnings.warn(\n"
          ]
        },
        {
          "name": "stdout",
          "output_type": "stream",
          "text": [
            "Residual norm ||Ax - λx||: 0.06626127946896695\n",
            "Cosine distance to true eigenvector: 0.22589007282572202\n",
            "\n",
            "Run 3/10 (size=100)\n",
            "Dominant eigenvalue (scipy): 1.045437354313167\n",
            "Residual norm ||Ax - λx||: 0.9402528564586157\n",
            "Cosine distance to true eigenvector: 0.4394658374983439\n",
            "\n",
            "Run 4/10 (size=1000)\n",
            "Dominant eigenvalue (scipy): 5.349758268614306\n",
            "Residual norm ||Ax - λx||: 5.321606511467171\n",
            "Cosine distance to true eigenvector: 0.48834816175342505\n",
            "\n",
            "Run 5/10 (size=10000)\n",
            "Dominant eigenvalue (scipy): 50.34612208476445\n",
            "Residual norm ||Ax - λx||: 50.325597232190255\n",
            "Cosine distance to true eigenvector: 0.49840532269518223\n",
            "\n",
            "Cosine Distances for 10 Runs:\n"
          ]
        },
        {
          "ename": "NameError",
          "evalue": "name 'cos_dist_list' is not defined",
          "output_type": "error",
          "traceback": [
            "\u001b[0;31m---------------------------------------------------------------------------\u001b[0m",
            "\u001b[0;31mNameError\u001b[0m                                 Traceback (most recent call last)",
            "\u001b[0;32m<ipython-input-7-029b9db18a5a>\u001b[0m in \u001b[0;36m<cell line: 0>\u001b[0;34m()\u001b[0m\n\u001b[1;32m     26\u001b[0m \u001b[0;31m# Print cosine distances and compute mean\u001b[0m\u001b[0;34m\u001b[0m\u001b[0;34m\u001b[0m\u001b[0m\n\u001b[1;32m     27\u001b[0m \u001b[0mprint\u001b[0m\u001b[0;34m(\u001b[0m\u001b[0;34m\"\\nCosine Distances for 10 Runs:\"\u001b[0m\u001b[0;34m)\u001b[0m\u001b[0;34m\u001b[0m\u001b[0;34m\u001b[0m\u001b[0m\n\u001b[0;32m---> 28\u001b[0;31m \u001b[0;32mfor\u001b[0m \u001b[0mi\u001b[0m\u001b[0;34m,\u001b[0m \u001b[0mcos_dist\u001b[0m \u001b[0;32min\u001b[0m \u001b[0menumerate\u001b[0m\u001b[0;34m(\u001b[0m\u001b[0mcos_dist_list\u001b[0m\u001b[0;34m)\u001b[0m\u001b[0;34m:\u001b[0m\u001b[0;34m\u001b[0m\u001b[0;34m\u001b[0m\u001b[0m\n\u001b[0m\u001b[1;32m     29\u001b[0m     \u001b[0mprint\u001b[0m\u001b[0;34m(\u001b[0m\u001b[0;34mf\"Run {i}: {cos_dist:.6f}\"\u001b[0m\u001b[0;34m)\u001b[0m\u001b[0;34m\u001b[0m\u001b[0;34m\u001b[0m\u001b[0m\n\u001b[1;32m     30\u001b[0m \u001b[0;34m\u001b[0m\u001b[0m\n",
            "\u001b[0;31mNameError\u001b[0m: name 'cos_dist_list' is not defined"
          ]
        }
      ],
      "source": [
        "\n",
        "# Test loop: Run 10 times and store results\n",
        "A_sparse_list1 = []\n",
        "eigenvalue_list1 = []\n",
        "eigenvector_list1 = []\n",
        "cos_dist_list1 = []\n",
        "\n",
        "for i in range(1,5):\n",
        "    size = 10**i\n",
        "    print(f\"\\nRun {i+1}/10 (size={size})\")\n",
        "    # Reset seed for reproducibility\n",
        "    np.random.seed(42)\n",
        "\n",
        "    A_sparse = sparse_random(size, size, density=0.01, format='csr')\n",
        "\n",
        "    # Store input matrix\n",
        "    A_sparse_list1.append(A_sparse)\n",
        "\n",
        "    # Run test\n",
        "    eigenvalue, eigenvector, cos_dist = compute_dominant_eigenvector(A_sparse)\n",
        "\n",
        "    # Store results\n",
        "    eigenvalue_list1.append(eigenvalue)\n",
        "    eigenvector_list1.append(eigenvector)\n",
        "    cos_dist_list1.append(cos_dist)\n",
        "\n",
        "# Print cosine distances and compute mean\n",
        "print(\"\\nCosine Distances for 10 Runs:\")\n",
        "for i, cos_dist in enumerate(cos_dist_list1):\n",
        "    print(f\"Run {i}: {cos_dist:.6f}\")\n",
        "\n",
        "mean_cos_dist1 = np.mean(cos_dist_list1)\n",
        "print(f\"Mean Cosine Distance: {mean_cos_dist1:.6f}\")"
      ]
    },
    {
      "cell_type": "code",
      "execution_count": 11,
      "metadata": {
        "colab": {
          "base_uri": "https://localhost:8080/"
        },
        "id": "6fVgVHCx5mjv",
        "outputId": "68424814-6152-4d80-8924-2208d9ddac5f"
      },
      "outputs": [
        {
          "name": "stdout",
          "output_type": "stream",
          "text": [
            "[0.45178015 0.87893167 0.97669632 0.99681065]\n"
          ]
        }
      ],
      "source": [
        "print(2*np.array(cos_dist_list1))"
      ]
    },
    {
      "cell_type": "code",
      "execution_count": null,
      "metadata": {
        "id": "cmVdUPkDKjXB"
      },
      "outputs": [],
      "source": []
    },
    {
      "cell_type": "markdown",
      "metadata": {
        "id": "nV9Pj6RbK9St"
      },
      "source": [
        "\n",
        "metric used cosine_dist = $arccos(|cos(\\theta)|)/\\pi$   \n",
        "ranges from $0$ (colinear) to $\\frac{1}{2}$ (orthogonal)  \n",
        "  \n",
        "Run 2 (size=10)  \n",
        "Dominant eigenvalue (scipy): 0.0994212020444026  \n",
        "Residual norm ||Ax - λx||: 0.06626127946896695  \n",
        "Cosine distance to true eigenvector: 0.45178015  \n",
        "  \n",
        "Run 3 (size=100)  \n",
        "Dominant eigenvalue (scipy): 1.045437354313167  \n",
        "Residual norm ||Ax - λx||: 0.9402528564586157  \n",
        "Cosine distance to true eigenvector: 0.87893167  \n",
        "  \n",
        "Run 4 (size=1000)  \n",
        "Dominant eigenvalue (scipy): 5.349758268614306  \n",
        "Residual norm ||Ax - λx||: 5.321606511467171  \n",
        "Cosine distance to true eigenvector: 0.97669632   \n",
        "  \n",
        "Run 5 (size=10000)  \n",
        "Dominant eigenvalue (scipy): 50.34612208476445  \n",
        "Residual norm ||Ax - λx||: 50.325597232190255  \n",
        "Cosine distance to true eigenvector: 0.99681065  \n",
        "  \n"
      ]
    },
    {
      "cell_type": "code",
      "execution_count": null,
      "metadata": {
        "id": "d7UBNkn8M3Wm"
      },
      "outputs": [],
      "source": []
    }
  ],
  "metadata": {
    "colab": {
      "collapsed_sections": [
        "QGDOb3lhTos6"
      ],
      "provenance": []
    },
    "kernelspec": {
      "display_name": "Python 3",
      "name": "python3"
    },
    "language_info": {
      "name": "python"
    }
  },
  "nbformat": 4,
  "nbformat_minor": 0
}
