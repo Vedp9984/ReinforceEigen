{
 "cells": [
  {
   "cell_type": "code",
   "execution_count": null,
   "metadata": {},
   "outputs": [],
   "source": [
    "import torch\n",
    "import torch.optim as optim\n",
    "from torch.distributions import MultivariateNormal"
   ]
  },
  {
   "cell_type": "code",
   "execution_count": null,
   "metadata": {},
   "outputs": [],
   "source": [
    "def get_dominant_eigenvalue_torch(matrix):\n",
    "    # Calculate all eigenvalues\n",
    "    eigenvalues = torch.linalg.eigvals(matrix)\n",
    "    \n",
    "    # Find the eigenvalue with the largest magnitude\n",
    "    dominant_idx = torch.argmax(torch.abs(eigenvalues))\n",
    "    dominant_eigenvalue = eigenvalues[dominant_idx]\n",
    "    \n",
    "    return dominant_eigenvalue\n",
    "class Policy(torch.nn.Module):\n",
    "    def __init__(self, dim):\n",
    "        super().__init__()\n",
    "        self.fc_mean = torch.nn.Linear(dim, dim)\n",
    "        self.log_std = torch.nn.Parameter(torch.zeros(dim))\n",
    "\n",
    "    def forward(self, x):\n",
    "        mean = self.fc_mean(x)\n",
    "        cov = torch.diag(torch.exp(self.log_std))\n",
    "        return MultivariateNormal(mean, cov)\n",
    "\n",
    "def train(A, lambda_, policy, epochs=500):\n",
    "\n",
    "    optimizer = optim.Adam(policy.parameters())\n",
    "    v = torch.randn(A.shape[0])\n",
    "    v = v / torch.norm(v)\n",
    "\n",
    "    for epoch in range(epochs):\n",
    "        dist = policy(v)\n",
    "        delta_v = dist.sample()\n",
    "\n",
    "        with torch.no_grad():\n",
    "            v_new = v + delta_v\n",
    "            v_new = v_new / torch.norm(v_new)\n",
    "            residual = torch.linalg.norm((A - lambda_ * torch.eye(A.shape[0])) @ v_new)\n",
    "            reward = -residual.item()\n",
    "\n",
    "        loss = -dist.log_prob(delta_v).sum() * reward\n",
    "        optimizer.zero_grad()\n",
    "        loss.backward()\n",
    "        optimizer.step()\n",
    "        v = v_new\n",
    "        if epoch % 100 == 1:\n",
    "            print(f'Epoch {_}: Loss = {loss.item()}, Residual = {residual.item()}')\n",
    "    return v\n",
    "\n"
   ]
  },
  {
   "cell_type": "code",
   "execution_count": null,
   "metadata": {},
   "outputs": [
    {
     "data": {
      "text/plain": [
       "tensor(3.+0.j)"
      ]
     },
     "execution_count": 17,
     "metadata": {},
     "output_type": "execute_result"
    }
   ],
   "source": [
    "get_dominant_eigenvalue_torch(A)"
   ]
  },
  {
   "cell_type": "code",
   "execution_count": null,
   "metadata": {},
   "outputs": [],
   "source": [
    "def evaluate_model(A eigenvector, policy):\n",
    "    eigenvalue = get_dominant_eigenvalue_torch(A)\n",
    "    v = train(A, eigenvalue, policy, epochs=1000)\n",
    "    cosine_similarity = torch.nn.functional.cosine_similarity(v, eigenvector, dim=0)\n",
    "    print(f'Cosine similarity between v and eigenvector: {cosine_similarity.item()}')\n",
    "    "
   ]
  },
  {
   "cell_type": "code",
   "execution_count": null,
   "metadata": {},
   "outputs": [
    {
     "name": "stdout",
     "output_type": "stream",
     "text": [
      "Epoch tensor([-0.7968,  0.6043]): Loss = -1.0955510139465332, Residual = 0.6147363781929016\n",
      "Epoch tensor([-0.7968,  0.6043]): Loss = -0.40097740292549133, Residual = 0.2780706584453583\n",
      "Epoch tensor([-0.7968,  0.6043]): Loss = -0.30468595027923584, Residual = 0.2221154123544693\n",
      "Epoch tensor([-0.7968,  0.6043]): Loss = -0.23056451976299286, Residual = 0.23193545639514923\n",
      "Epoch tensor([-0.7968,  0.6043]): Loss = -0.044086914509534836, Residual = 0.07378420978784561\n",
      "Epoch tensor([-0.7968,  0.6043]): Loss = -0.6172485947608948, Residual = 0.3463563919067383\n",
      "Epoch tensor([-0.7968,  0.6043]): Loss = -0.1758681684732437, Residual = 0.10400097072124481\n",
      "Epoch tensor([-0.7968,  0.6043]): Loss = -0.5470619797706604, Residual = 0.2510744333267212\n",
      "Epoch tensor([-0.7968,  0.6043]): Loss = -0.13938060402870178, Residual = 0.12416309863328934\n",
      "Epoch tensor([-0.7968,  0.6043]): Loss = -0.033290933817625046, Residual = 0.04250981658697128\n",
      "Cosine similarity between v and eigenvector: 0.9885687828063965\n"
     ]
    }
   ],
   "source": [
    "evaluate_model(A, torch.tensor([1.0, -1.0], dtype=torch.float32), policy)"
   ]
  },
  {
   "cell_type": "code",
   "execution_count": null,
   "metadata": {},
   "outputs": [],
   "source": []
  }
 ],
 "metadata": {
  "kernelspec": {
   "display_name": "Python 3",
   "language": "python",
   "name": "python3"
  },
  "language_info": {
   "codemirror_mode": {
    "name": "ipython",
    "version": 3
   },
   "file_extension": ".py",
   "mimetype": "text/x-python",
   "name": "python",
   "nbconvert_exporter": "python",
   "pygments_lexer": "ipython3",
   "version": "3.13.2"
  }
 },
 "nbformat": 4,
 "nbformat_minor": 2
}
